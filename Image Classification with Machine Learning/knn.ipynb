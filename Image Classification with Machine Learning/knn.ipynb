{
 "cells": [
  {
   "cell_type": "markdown",
   "metadata": {},
   "source": [
    "# KNN\n",
    "\n",
    "Implementing KNN algorithm and test it on the a subset of CIFAR10 dataset.\n"
   ]
  },
  {
   "cell_type": "code",
   "execution_count": 1,
   "metadata": {},
   "outputs": [],
   "source": [
    "# Import Packages/\n",
    "import numpy as np\n",
    "import matplotlib.pyplot as plt\n"
   ]
  },
  {
   "cell_type": "markdown",
   "metadata": {},
   "source": [
    "## Prepare Dataset\n",
    "\n",
    "Since CIFAR10 is a relative large dataset, and KNN is quite time-consuming method, we only a small sub-set of CIFAR10 for KNN part"
   ]
  },
  {
   "cell_type": "code",
   "execution_count": 2,
   "metadata": {},
   "outputs": [
    {
     "name": "stdout",
     "output_type": "stream",
     "text": [
      "dict_keys(['x_train', 'y_train', 'x_val', 'y_val', 'x_test', 'y_test'])\n",
      "Training Set Data  Shape:  (5000, 3072)\n",
      "Training Set Label Shape:  (5000,)\n"
     ]
    }
   ],
   "source": [
    "from utils.data_processing import get_cifar10_data\n",
    "\n",
    "# Use a subset of CIFAR10 for KNN assignments\n",
    "dataset = get_cifar10_data(subset_train=5000, subset_val=250, subset_test=500)\n",
    "\n",
    "print(dataset.keys())\n",
    "print(\"Training Set Data  Shape: \", dataset[\"x_train\"].shape)\n",
    "print(\"Training Set Label Shape: \", dataset[\"y_train\"].shape)\n"
   ]
  },
  {
   "cell_type": "markdown",
   "metadata": {},
   "source": [
    "## Implementation\n",
    "\n",
    "Implementationof  the KNN method in `algorithms/knn.py`.\n",
    "\n",
    "For KNN implementation, there are two versions.\n",
    "\n",
    "* Two Loop Version: use one loop to iterate through training samples and one loop to iterate through test samples\n",
    "* One Loop Version: use one loop to iterate through test samples and use broadcast feature of numpy to calculate all the distance at once"
   ]
  },
  {
   "cell_type": "code",
   "execution_count": 3,
   "metadata": {},
   "outputs": [],
   "source": [
    "from algorithms import KNN\n",
    "\n",
    "knn = KNN(num_class=10)\n",
    "knn.train(\n",
    "    x_train=dataset[\"x_train\"],\n",
    "    y_train=dataset[\"y_train\"],\n",
    "    k=5,\n",
    ")\n"
   ]
  },
  {
   "cell_type": "markdown",
   "metadata": {},
   "source": [
    "### Compare the time consumption of different method\n",
    "\n",
    "In this section, you will test your different implementation of KNN method, and compare their speed."
   ]
  },
  {
   "cell_type": "code",
   "execution_count": 4,
   "metadata": {},
   "outputs": [],
   "source": [
    "from utils.evaluation import get_classification_accuracy\n"
   ]
  },
  {
   "cell_type": "markdown",
   "metadata": {},
   "source": [
    "#### Two Loop Version:"
   ]
  },
  {
   "cell_type": "code",
   "execution_count": 5,
   "metadata": {},
   "outputs": [
    {
     "name": "stdout",
     "output_type": "stream",
     "text": [
      "Two Loop Prediction Time: 14.471889972686768\n",
      "Test Accuracy: 0.278\n"
     ]
    }
   ],
   "source": [
    "import time\n",
    "\n",
    "c_t = time.time()\n",
    "prediction = knn.predict(dataset[\"x_test\"], loop_count=2)\n",
    "print(\"Two Loop Prediction Time:\", time.time() - c_t)\n",
    "\n",
    "test_acc = get_classification_accuracy(prediction, dataset[\"y_test\"])\n",
    "print(\"Test Accuracy:\", test_acc)\n"
   ]
  },
  {
   "cell_type": "markdown",
   "metadata": {},
   "source": [
    "#### One Loop Version "
   ]
  },
  {
   "cell_type": "code",
   "execution_count": 6,
   "metadata": {},
   "outputs": [
    {
     "name": "stdout",
     "output_type": "stream",
     "text": [
      "One Loop Prediction Time: 11.669211149215698\n",
      "Test Accuracy: 0.278\n"
     ]
    }
   ],
   "source": [
    "import time\n",
    "\n",
    "c_t = time.time()\n",
    "prediction = knn.predict(dataset[\"x_test\"], loop_count=1)\n",
    "print(\"One Loop Prediction Time:\", time.time() - c_t)\n",
    "\n",
    "test_acc = get_classification_accuracy(prediction, dataset[\"y_test\"])\n",
    "print(\"Test Accuracy:\", test_acc)\n"
   ]
  },
  {
   "cell_type": "markdown",
   "metadata": {},
   "source": [
    "## Test different Hyper-parameter\n",
    "\n",
    "For KNN, there is only one hyper-parameter of the algorithm: How many nearest neighbour to use(**K**)."
   ]
  },
  {
   "cell_type": "code",
   "execution_count": 7,
   "metadata": {},
   "outputs": [
    {
     "data": {
      "image/png": "[encoded data removed]",
      "text/plain": [
       "<Figure size 432x288 with 1 Axes>"
      ]
     },
     "metadata": {
      "needs_background": "light"
     },
     "output_type": "display_data"
    }
   ],
   "source": [
    "accuracies = []\n",
    "\n",
    "k_candidates = [1, 3, 5, 10, 20, 50]\n",
    "for k_cand in k_candidates:\n",
    "    prediction = knn.predict(x_test=dataset[\"x_test\"], k=k_cand)\n",
    "    acc = get_classification_accuracy(prediction, dataset[\"y_test\"])\n",
    "    accuracies.append(acc)\n",
    "plt.ylabel(\"Accuracy\")\n",
    "plt.xlabel(\"K\")\n",
    "plt.plot(k_candidates, accuracies)\n",
    "plt.show()\n"
   ]
  },
  {
   "cell_type": "code",
   "execution_count": 8,
   "metadata": {},
   "outputs": [
    {
     "data": {
      "text/plain": [
       "[0.274, 0.272, 0.278, 0.282, 0.272, 0.252]"
      ]
     },
     "execution_count": 8,
     "metadata": {},
     "output_type": "execute_result"
    }
   ],
   "source": [
    "accuracies"
   ]
  }
 ],
 "metadata": {
  "kernelspec": {
   "display_name": "Python 3 (ipykernel)",
   "language": "python",
   "name": "python3"
  },
  "language_info": {
   "codemirror_mode": {
    "name": "ipython",
    "version": 3
   },
   "file_extension": ".py",
   "mimetype": "text/x-python",
   "name": "python",
   "nbconvert_exporter": "python",
   "pygments_lexer": "ipython3",
   "version": "3.9.12"
  }
 },
 "nbformat": 4,
 "nbformat_minor": 2
}
